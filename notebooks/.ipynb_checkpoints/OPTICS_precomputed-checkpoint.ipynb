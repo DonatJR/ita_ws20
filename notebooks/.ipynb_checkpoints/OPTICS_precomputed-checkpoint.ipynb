{
 "cells": [
  {
   "cell_type": "code",
   "execution_count": 10,
   "metadata": {},
   "outputs": [],
   "source": [
    "import json\n",
    "import pprint\n",
    "from pathlib import Path\n",
    "import sys\n",
    "sys.path.insert(1, '../src/utils')\n",
    "import ipdb\n",
    "\n",
    "import numpy as np\n",
    "import pandas as pd\n",
    "import matplotlib.pyplot as plt\n",
    "\n",
    "from gensim.utils import simple_preprocess\n",
    "from gensim import corpora, models\n",
    "from gensim.models import Word2Vec\n",
    "from gensim.models import CoherenceModel\n",
    "from sklearn.manifold import TSNE\n",
    "from sklearn.cluster import OPTICS\n",
    "from sklearn.feature_extraction.text import TfidfVectorizer\n",
    "from sklearn import metrics\n",
    "from sklearn.pipeline import make_pipeline\n",
    "from sklearn.decomposition import TruncatedSVD\n",
    "from sklearn.preprocessing import Normalizer\n",
    "import pyLDAvis.gensim\n",
    "pyLDAvis.enable_notebook()\n",
    "from scipy.spatial.distance import cdist\n",
    "\n",
    "from data import preprocessing\n",
    "\n",
    "import pickle"
   ]
  },
  {
   "cell_type": "code",
   "execution_count": 11,
   "metadata": {},
   "outputs": [],
   "source": [
    "import warnings\n",
    "warnings.filterwarnings(\"ignore\", category=DeprecationWarning)"
   ]
  },
  {
   "cell_type": "code",
   "execution_count": 12,
   "metadata": {},
   "outputs": [
    {
     "name": "stderr",
     "output_type": "stream",
     "text": [
      "[nltk_data] Downloading package wordnet to\n",
      "[nltk_data]     C:\\Users\\Donat\\AppData\\Roaming\\nltk_data...\n",
      "[nltk_data]   Package wordnet is already up-to-date!\n"
     ]
    },
    {
     "data": {
      "text/plain": [
       "True"
      ]
     },
     "execution_count": 12,
     "metadata": {},
     "output_type": "execute_result"
    }
   ],
   "source": [
    "import nltk\n",
    "nltk.download('wordnet')"
   ]
  },
  {
   "cell_type": "markdown",
   "metadata": {},
   "source": [
    "# Variables\n"
   ]
  },
  {
   "cell_type": "code",
   "execution_count": 13,
   "metadata": {
    "pycharm": {
     "name": "#%%\n"
    }
   },
   "outputs": [],
   "source": [
    "num_topics = 5\n",
    "use_title = True\n",
    "# don't use stemming\n",
    "stemming = False\n",
    "lemmatization = True\n",
    "# use nltk since it is a lot faster than spacy and the results are better with nltk\n",
    "lib = \"nltk\"\n",
    "\n",
    "input_path = Path(\"../src/data/data_jmlr_vol13-21.json\")"
   ]
  },
  {
   "cell_type": "markdown",
   "metadata": {},
   "source": [
    "# Data loading and preparation"
   ]
  },
  {
   "cell_type": "markdown",
   "metadata": {},
   "source": [
    "## Load data"
   ]
  },
  {
   "cell_type": "code",
   "execution_count": 14,
   "metadata": {},
   "outputs": [],
   "source": [
    "with open(input_path, encoding=\"utf-8\") as f:\n",
    "    data = json.load(f)\n",
    "data_df = pd.json_normalize(data['papers'])\n",
    "corpus = data_df[\"abstract\"]\n",
    "if use_title:\n",
    "    corpus = data_df[\"title\"] + \" \" + corpus \n"
   ]
  },
  {
   "cell_type": "markdown",
   "metadata": {},
   "source": [
    "## Preprocessing"
   ]
  },
  {
   "cell_type": "code",
   "execution_count": 15,
   "metadata": {},
   "outputs": [
    {
     "name": "stderr",
     "output_type": "stream",
     "text": [
      "[nltk_data] Downloading package stopwords to\n",
      "[nltk_data]     C:\\Users\\Donat\\AppData\\Roaming\\nltk_data...\n",
      "[nltk_data]   Package stopwords is already up-to-date!\n",
      "[nltk_data] Downloading package punkt to\n",
      "[nltk_data]     C:\\Users\\Donat\\AppData\\Roaming\\nltk_data...\n",
      "[nltk_data]   Package punkt is already up-to-date!\n",
      "\r",
      "0it [00:00, ?it/s]"
     ]
    },
    {
     "name": "stdout",
     "output_type": "stream",
     "text": [
      "Dropping 0 entries of corpus, due to nan ...\n",
      "Starting tokenization ...\n"
     ]
    },
    {
     "name": "stderr",
     "output_type": "stream",
     "text": [
      "1261it [00:02, 445.76it/s]\n"
     ]
    }
   ],
   "source": [
    "corpus = preprocessing(\n",
    "    corpus,\n",
    "    lib=lib,\n",
    "    stemming=stemming,\n",
    "    lemmatization=lemmatization,\n",
    "    min_word_len=2,\n",
    "    max_word_len=15\n",
    ")"
   ]
  },
  {
   "cell_type": "markdown",
   "metadata": {},
   "source": [
    "### TD-IDF"
   ]
  },
  {
   "cell_type": "markdown",
   "metadata": {},
   "source": [
    "The TfidfVectorizer does additionally also tokenization and stop word removal. Use two different methods of vectorizing"
   ]
  },
  {
   "cell_type": "code",
   "execution_count": 16,
   "metadata": {},
   "outputs": [],
   "source": [
    "vectorizer_sklearn = TfidfVectorizer(stop_words='english')\n",
    "tfidf_corpus_sklearn_preprocessed = vectorizer_sklearn.fit_transform(corpus[\"abstract\"])"
   ]
  },
  {
   "cell_type": "code",
   "execution_count": 17,
   "metadata": {},
   "outputs": [],
   "source": [
    "vectorizer = TfidfVectorizer(tokenizer=lambda text: text, lowercase=False)  \n",
    "tfidf_corpus =  vectorizer.fit_transform(corpus[\"token\"])  "
   ]
  },
  {
   "cell_type": "markdown",
   "metadata": {},
   "source": [
    "# Clustering"
   ]
  },
  {
   "cell_type": "code",
   "execution_count": 18,
   "metadata": {},
   "outputs": [],
   "source": [
    "tdidf_optics_clustering = pickle.load(open('optics_data/optics_tdidf_optics_clustering', 'rb'))"
   ]
  },
  {
   "cell_type": "code",
   "execution_count": 19,
   "metadata": {},
   "outputs": [],
   "source": [
    "tdidf_optics_clustering_sklearn_prepocessed = pickle.load(open('optics_data/optics_tdidf_optics_clustering_sklearn_prepocessed', 'rb'))"
   ]
  },
  {
   "cell_type": "code",
   "execution_count": 20,
   "metadata": {},
   "outputs": [
    {
     "name": "stdout",
     "output_type": "stream",
     "text": [
      "Number of clusters: 1\n",
      "Number of clusters: 1\n"
     ]
    }
   ],
   "source": [
    "def print_top_terms(model, corpus, vectorizer):\n",
    "    print('Number of clusters:', len(model.cluster_hierarchy_))\n",
    "    \n",
    "    terms = vectorizer.get_feature_names()\n",
    "    for cluster_start, cluster_end in model.cluster_hierarchy_:\n",
    "        end = np.min([5, cluster_end + 1])\n",
    "        # todo get top terms per cluster\n",
    "\n",
    "print_top_terms(tdidf_optics_clustering, tfidf_corpus, vectorizer)\n",
    "print_top_terms(tdidf_optics_clustering_sklearn_prepocessed, tfidf_corpus_sklearn_preprocessed, vectorizer_sklearn)"
   ]
  },
  {
   "cell_type": "markdown",
   "metadata": {},
   "source": [
    "# Visualization"
   ]
  },
  {
   "cell_type": "code",
   "execution_count": 21,
   "metadata": {},
   "outputs": [],
   "source": [
    "def visualize_clustering_result(model, corpus):\n",
    "    space = np.arange(len(corpus.toarray()))\n",
    "    reachability = model.reachability_[model.ordering_]\n",
    "    labels = model.labels_[model.ordering_]\n",
    "    \n",
    "    plt.figure(figsize=(10, 10))\n",
    "    ax1 = plt.subplot(211)\n",
    "    ax2 = plt.subplot(212)\n",
    "    \n",
    "    # Reachability plot\n",
    "    colors = ['g.', 'r.', 'b.', 'y.', 'c.']\n",
    "    for klass, color in zip(range(0, 5), colors):\n",
    "        Xk = space[labels == klass]\n",
    "        Rk = reachability[labels == klass]\n",
    "        ax1.plot(Xk, Rk, color, alpha=0.3)\n",
    "    ax1.plot(space[labels == -1], reachability[labels == -1], 'k.', alpha=0.3)\n",
    "    ax1.plot(space, np.full_like(space, 2., dtype=float), 'k-', alpha=0.5)\n",
    "    ax1.plot(space, np.full_like(space, 0.5, dtype=float), 'k-.', alpha=0.5)\n",
    "    ax1.set_ylabel('Reachability (epsilon distance)')\n",
    "    ax1.set_title('Reachability Plot')\n",
    "\n",
    "    # OPTICS\n",
    "    colors = ['g.', 'r.', 'b.', 'y.', 'c.']\n",
    "    for klass, color in zip(range(0, 5), colors):\n",
    "        Xk = corpus.toarray()[model.labels_ == klass]\n",
    "        ax2.plot(Xk[:, 0], Xk[:, 1], color, alpha=0.3)\n",
    "    ax2.plot(corpus.toarray()[model.labels_ == -1, 0], corpus.toarray()[model.labels_ == -1, 1], 'k+', alpha=0.1)\n",
    "    ax2.set_title('Automatic Clustering\\nOPTICS')\n",
    "    \n",
    "    plt.show()"
   ]
  },
  {
   "cell_type": "code",
   "execution_count": 22,
   "metadata": {},
   "outputs": [
    {
     "data": {
      "image/png": "[encoded data removed]",
      "text/plain": [
       "<Figure size 720x720 with 2 Axes>"
      ]
     },
     "metadata": {
      "needs_background": "light"
     },
     "output_type": "display_data"
    }
   ],
   "source": [
    "visualize_clustering_result(tdidf_optics_clustering, tfidf_corpus)"
   ]
  },
  {
   "cell_type": "code",
   "execution_count": 23,
   "metadata": {},
   "outputs": [
    {
     "data": {
      "image/png": "[encoded data removed]",
      "text/plain": [
       "<Figure size 720x720 with 2 Axes>"
      ]
     },
     "metadata": {
      "needs_background": "light"
     },
     "output_type": "display_data"
    }
   ],
   "source": [
    "visualize_clustering_result(tdidf_optics_clustering_sklearn_prepocessed, tfidf_corpus_sklearn_preprocessed)"
   ]
  },
  {
   "cell_type": "markdown",
   "metadata": {},
   "source": [
    "# Try different arguments for `OPTICS`"
   ]
  },
  {
   "cell_type": "code",
   "execution_count": 24,
   "metadata": {
    "scrolled": false
   },
   "outputs": [
    {
     "name": "stdout",
     "output_type": "stream",
     "text": [
      "Without sklearn:\n",
      "min_samples: 5, max_eps: 5\n"
     ]
    },
    {
     "ename": "FileNotFoundError",
     "evalue": "[Errno 2] No such file or directory: 'optics_data/optics_wo-sklearn_5_5'",
     "output_type": "error",
     "traceback": [
      "\u001b[1;31m---------------------------------------------------------------------------\u001b[0m",
      "\u001b[1;31mFileNotFoundError\u001b[0m                         Traceback (most recent call last)",
      "\u001b[1;32m<ipython-input-24-6ec0cb8db83c>\u001b[0m in \u001b[0;36m<module>\u001b[1;34m\u001b[0m\n\u001b[0;32m      7\u001b[0m         \u001b[0mprint\u001b[0m\u001b[1;33m(\u001b[0m\u001b[1;34mf'min_samples: {samples}, max_eps: {eps}'\u001b[0m\u001b[1;33m)\u001b[0m\u001b[1;33m\u001b[0m\u001b[1;33m\u001b[0m\u001b[0m\n\u001b[0;32m      8\u001b[0m \u001b[1;33m\u001b[0m\u001b[0m\n\u001b[1;32m----> 9\u001b[1;33m         \u001b[0mtdidf_optics_clustering\u001b[0m \u001b[1;33m=\u001b[0m \u001b[0mpickle\u001b[0m\u001b[1;33m.\u001b[0m\u001b[0mload\u001b[0m\u001b[1;33m(\u001b[0m\u001b[0mopen\u001b[0m\u001b[1;33m(\u001b[0m\u001b[1;34mf'optics_data/optics_wo-sklearn_{samples}_{eps}'\u001b[0m\u001b[1;33m,\u001b[0m \u001b[1;34m'rb'\u001b[0m\u001b[1;33m)\u001b[0m\u001b[1;33m)\u001b[0m\u001b[1;33m\u001b[0m\u001b[1;33m\u001b[0m\u001b[0m\n\u001b[0m\u001b[0;32m     10\u001b[0m         \u001b[0mvisualize_clustering_result\u001b[0m\u001b[1;33m(\u001b[0m\u001b[0mtdidf_optics_clustering\u001b[0m\u001b[1;33m,\u001b[0m \u001b[0mtfidf_corpus\u001b[0m\u001b[1;33m)\u001b[0m\u001b[1;33m\u001b[0m\u001b[1;33m\u001b[0m\u001b[0m\n\u001b[0;32m     11\u001b[0m \u001b[1;33m\u001b[0m\u001b[0m\n",
      "\u001b[1;31mFileNotFoundError\u001b[0m: [Errno 2] No such file or directory: 'optics_data/optics_wo-sklearn_5_5'"
     ]
    }
   ],
   "source": [
    "min_samples = [5, 10, 20]\n",
    "max_eps = [5, np.inf]\n",
    "\n",
    "print('Without sklearn:')\n",
    "for samples in min_samples:\n",
    "    for eps in max_eps:\n",
    "        print(f'min_samples: {samples}, max_eps: {eps}')\n",
    "        \n",
    "        tdidf_optics_clustering = pickle.load(open(f'optics_data/optics_wo-sklearn_{samples}_{eps}', 'rb'))\n",
    "        visualize_clustering_result(tdidf_optics_clustering, tfidf_corpus)\n",
    "        \n",
    "print('\\nWith sklearn:')\n",
    "for samples in min_samples:\n",
    "    for eps in max_eps:\n",
    "        print(f'min_samples: {samples}, max_eps: {eps}')\n",
    "        \n",
    "        tdidf_optics_clustering_sklearn_prepocessed = pickle.load(open(f'optics_data/optics_w-sklearn_{samples}_{eps}', 'rb'))\n",
    "        visualize_clustering_result(tdidf_optics_clustering_sklearn_prepocessed, tfidf_corpus_sklearn_preprocessed)"
   ]
  },
  {
   "cell_type": "code",
   "execution_count": null,
   "metadata": {},
   "outputs": [],
   "source": []
  }
 ],
 "metadata": {
  "colab": {
   "name": "test.ipynb",
   "provenance": [],
   "toc_visible": true
  },
  "kernelspec": {
   "display_name": "Python 3",
   "language": "python",
   "name": "python3"
  },
  "language_info": {
   "codemirror_mode": {
    "name": "ipython",
    "version": 3
   },
   "file_extension": ".py",
   "mimetype": "text/x-python",
   "name": "python",
   "nbconvert_exporter": "python",
   "pygments_lexer": "ipython3",
   "version": "3.7.7"
  },
  "pycharm": {
   "stem_cell": {
    "cell_type": "raw",
    "metadata": {
     "collapsed": false
    },
    "source": []
   }
  }
 },
 "nbformat": 4,
 "nbformat_minor": 1
}
