{
 "cells": [
  {
   "cell_type": "code",
   "execution_count": 10,
   "id": "liberal-rover",
   "metadata": {},
   "outputs": [],
   "source": [
    "import json\n",
    "import pprint\n",
    "from pathlib import Path\n",
    "import sys\n",
    "sys.path.insert(1, '../src/utils')\n",
    "import ipdb\n",
    "import itertools\n",
    "from collections import Counter\n",
    "\n",
    "import numpy as np\n",
    "import pandas as pd\n",
    "import matplotlib.pyplot as plt\n",
    "\n",
    "from gensim.utils import simple_preprocess\n",
    "from gensim import corpora, models\n",
    "from gensim.models import Word2Vec\n",
    "from gensim.models import CoherenceModel\n",
    "from sklearn.manifold import TSNE\n",
    "from sklearn.cluster import DBSCAN\n",
    "from sklearn.feature_extraction.text import TfidfVectorizer\n",
    "from sklearn import metrics\n",
    "from sklearn.pipeline import make_pipeline\n",
    "from sklearn.decomposition import TruncatedSVD\n",
    "from sklearn.preprocessing import Normalizer\n",
    "import pyLDAvis.gensim\n",
    "pyLDAvis.enable_notebook()\n",
    "from scipy.spatial.distance import cdist\n",
    "\n",
    "from data import preprocessing\n",
    "\n",
    "import pickle"
   ]
  },
  {
   "cell_type": "code",
   "execution_count": 2,
   "id": "modern-feedback",
   "metadata": {},
   "outputs": [
    {
     "name": "stderr",
     "output_type": "stream",
     "text": [
      "C:\\Users\\Donat\\Anaconda3\\lib\\site-packages\\ipykernel\\ipkernel.py:283: DeprecationWarning: `should_run_async` will not call `transform_cell` automatically in the future. Please pass the result to `transformed_cell` argument and any exception that happen during thetransform in `preprocessing_exc_tuple` in IPython 7.17 and above.\n",
      "  and should_run_async(code)\n"
     ]
    }
   ],
   "source": [
    "import warnings\n",
    "warnings.filterwarnings(\"ignore\", category=DeprecationWarning)"
   ]
  },
  {
   "cell_type": "code",
   "execution_count": 3,
   "id": "vietnamese-egypt",
   "metadata": {},
   "outputs": [
    {
     "name": "stderr",
     "output_type": "stream",
     "text": [
      "[nltk_data] Downloading package wordnet to\n",
      "[nltk_data]     C:\\Users\\Donat\\AppData\\Roaming\\nltk_data...\n",
      "[nltk_data]   Package wordnet is already up-to-date!\n"
     ]
    },
    {
     "data": {
      "text/plain": [
       "True"
      ]
     },
     "execution_count": 3,
     "metadata": {},
     "output_type": "execute_result"
    }
   ],
   "source": [
    "import nltk\n",
    "nltk.download('wordnet')"
   ]
  },
  {
   "cell_type": "markdown",
   "id": "romantic-string",
   "metadata": {},
   "source": [
    "# Variables"
   ]
  },
  {
   "cell_type": "code",
   "execution_count": 4,
   "id": "supported-bouquet",
   "metadata": {},
   "outputs": [],
   "source": [
    "num_topics = 5\n",
    "use_title = True\n",
    "# don't use stemming\n",
    "stemming = False\n",
    "lemmatization = True\n",
    "# use nltk since it is a lot faster than spacy and the results are better with nltk\n",
    "lib = \"nltk\"\n",
    "\n",
    "input_path = Path(\"../src/data/data_jmlr_vol13-21.json\")"
   ]
  },
  {
   "cell_type": "markdown",
   "id": "cheap-spelling",
   "metadata": {},
   "source": [
    "# Data loading and preparation"
   ]
  },
  {
   "cell_type": "markdown",
   "id": "unlikely-wrist",
   "metadata": {},
   "source": [
    "## Load data"
   ]
  },
  {
   "cell_type": "code",
   "execution_count": 5,
   "id": "ignored-grace",
   "metadata": {},
   "outputs": [],
   "source": [
    "def load_data():\n",
    "    with open(input_path, encoding=\"utf-8\") as f:\n",
    "        data = json.load(f)\n",
    "    data_df = pd.json_normalize(data['papers'])\n",
    "    corpus = data_df[\"abstract\"]\n",
    "    if use_title:\n",
    "        corpus = data_df[\"title\"] + \" \" + corpus \n",
    "    return corpus\n",
    "\n",
    "corpus = load_data()"
   ]
  },
  {
   "cell_type": "markdown",
   "id": "greenhouse-miniature",
   "metadata": {},
   "source": [
    "## Preprocessing"
   ]
  },
  {
   "cell_type": "code",
   "execution_count": 6,
   "id": "arctic-native",
   "metadata": {},
   "outputs": [
    {
     "name": "stderr",
     "output_type": "stream",
     "text": [
      "[nltk_data] Downloading package stopwords to\n",
      "[nltk_data]     C:\\Users\\Donat\\AppData\\Roaming\\nltk_data...\n",
      "[nltk_data]   Package stopwords is already up-to-date!\n",
      "[nltk_data] Downloading package punkt to\n",
      "[nltk_data]     C:\\Users\\Donat\\AppData\\Roaming\\nltk_data...\n",
      "[nltk_data]   Package punkt is already up-to-date!\n",
      "\r",
      "0it [00:00, ?it/s]"
     ]
    },
    {
     "name": "stdout",
     "output_type": "stream",
     "text": [
      "Dropping 0 entries of corpus, due to nan ...\n",
      "Starting tokenization ...\n"
     ]
    },
    {
     "name": "stderr",
     "output_type": "stream",
     "text": [
      "1261it [00:03, 384.90it/s]\n"
     ]
    }
   ],
   "source": [
    "corpus = preprocessing(\n",
    "    corpus,\n",
    "    lib=lib,\n",
    "    stemming=stemming,\n",
    "    lemmatization=lemmatization,\n",
    "    min_word_len=2,\n",
    "    max_word_len=15\n",
    ")"
   ]
  },
  {
   "cell_type": "markdown",
   "id": "southwest-arnold",
   "metadata": {},
   "source": [
    "### TD-IDF"
   ]
  },
  {
   "cell_type": "code",
   "execution_count": 7,
   "id": "smoking-telling",
   "metadata": {},
   "outputs": [],
   "source": [
    "vectorizer = TfidfVectorizer(tokenizer=lambda text: text, lowercase=False)  \n",
    "tfidf_corpus =  vectorizer.fit_transform(corpus[\"token\"])"
   ]
  },
  {
   "cell_type": "markdown",
   "id": "legendary-greek",
   "metadata": {},
   "source": [
    "# Clustering"
   ]
  },
  {
   "cell_type": "code",
   "execution_count": 56,
   "id": "maritime-retro",
   "metadata": {},
   "outputs": [
    {
     "data": {
      "text/plain": [
       "DBSCAN(eps=1, min_samples=3, n_jobs=6)"
      ]
     },
     "execution_count": 56,
     "metadata": {},
     "output_type": "execute_result"
    }
   ],
   "source": [
    "tdidf_dbscan_clustering = DBSCAN(min_samples=3, eps=1, n_jobs=6)\n",
    "tdidf_dbscan_clustering.fit(tfidf_corpus.toarray())"
   ]
  },
  {
   "cell_type": "code",
   "execution_count": 57,
   "id": "artistic-picnic",
   "metadata": {},
   "outputs": [],
   "source": [
    "pickle.dump(tdidf_dbscan_clustering, open('dbscan_data/tdidf_dbscan_clustering', 'wb'))"
   ]
  },
  {
   "cell_type": "code",
   "execution_count": 58,
   "id": "champion-bruce",
   "metadata": {},
   "outputs": [
    {
     "name": "stdout",
     "output_type": "stream",
     "text": [
      "Top terms per cluster:\n",
      "Cluster 0:\n",
      "('model', 'learning', 'algorithm', 'data', 'method', 'problem', 'function', 'matrix', 'kernel', 'regression')\n",
      "\n",
      "\n",
      "Cluster 1:\n",
      "('model', 'learning', 'algorithm', 'data', 'method', 'problem', 'function', 'matrix', 'kernel', 'regression')\n",
      "\n",
      "\n",
      "Cluster 2:\n",
      "('model', 'learning', 'algorithm', 'data', 'method', 'problem', 'function', 'matrix', 'kernel', 'regression')\n",
      "\n",
      "\n",
      "Cluster 3:\n",
      "('model', 'learning', 'algorithm', 'data', 'method', 'problem', 'function', 'matrix', 'kernel', 'regression')\n",
      "\n",
      "\n"
     ]
    }
   ],
   "source": [
    "def get_top_words(vectorizer, corpus):\n",
    "    scores = zip(vectorizer.get_feature_names(),\n",
    "                 np.asarray(corpus.sum(axis=0)).ravel())\n",
    "    sorted_scores = list(zip(*sorted(scores, key=lambda x: x[1], reverse=True)))\n",
    "    top_words = sorted_scores[0][:10]\n",
    "    return top_words\n",
    "    \n",
    "\n",
    "def print_and_get_clusters(model, corpus, vectorizer):\n",
    "    labels = model.labels_\n",
    "    n_clusters_ = len(set(labels)) - (1 if -1 in labels else 0)\n",
    "    if (n_clusters_ == 0):\n",
    "        print('No clusters found')\n",
    "        return\n",
    "    \n",
    "    clusters = []\n",
    "    print(\"Top terms per cluster:\")\n",
    "    for i in range(n_clusters_):\n",
    "        print(\"Cluster %d:\" % i),\n",
    "        top_words = get_top_words(vectorizer, tfidf_corpus)\n",
    "        print(top_words)\n",
    "        clusters.append(get_top_words(vectorizer, tfidf_corpus))\n",
    "        print(\"\\n\")\n",
    "    return clusters\n",
    "\n",
    "clusters = print_and_get_clusters(tdidf_dbscan_clustering, tfidf_corpus, vectorizer)"
   ]
  },
  {
   "cell_type": "markdown",
   "id": "streaming-difference",
   "metadata": {},
   "source": [
    "# Visualization"
   ]
  },
  {
   "cell_type": "code",
   "execution_count": 47,
   "id": "robust-russell",
   "metadata": {},
   "outputs": [],
   "source": [
    "def visualize_clustering_result(model, corpus):\n",
    "    X = corpus.toarray()\n",
    "    core_samples_mask = np.zeros_like(model.labels_, dtype=bool)\n",
    "    core_samples_mask[model.core_sample_indices_] = True\n",
    "    labels = model.labels_\n",
    "\n",
    "    # Number of clusters in labels, ignoring noise if present.\n",
    "    n_clusters_ = len(set(labels)) - (1 if -1 in labels else 0)\n",
    "    n_noise_ = list(labels).count(-1)\n",
    "    \n",
    "    if (n_clusters_ == 0):\n",
    "        print('No clusters found')\n",
    "        return\n",
    "    \n",
    "    print('Estimated number of clusters: %d' % n_clusters_)\n",
    "    print('Estimated number of noise points: %d' % n_noise_)\n",
    "\n",
    "    # Black removed and is used for noise instead.\n",
    "    unique_labels = set(labels)\n",
    "    colors = [plt.cm.Spectral(each)\n",
    "              for each in np.linspace(0, 1, len(unique_labels))]\n",
    "    for k, col in zip(unique_labels, colors):\n",
    "        if k == -1:\n",
    "            # Black used for noise.\n",
    "            col = [0, 0, 0, 1]\n",
    "\n",
    "        class_member_mask = (labels == k)\n",
    "\n",
    "        xy = X[class_member_mask & core_samples_mask]\n",
    "        plt.plot(xy[:, 0], xy[:, 1], 'o', markerfacecolor=tuple(col),\n",
    "                 markeredgecolor='k', markersize=14)\n",
    "\n",
    "        xy = X[class_member_mask & ~core_samples_mask]\n",
    "        plt.plot(xy[:, 0], xy[:, 1], 'o', markerfacecolor=tuple(col),\n",
    "                 markeredgecolor='k', markersize=6)\n",
    "\n",
    "    plt.title('Estimated number of clusters: %d' % n_clusters_)\n",
    "    plt.show()"
   ]
  },
  {
   "cell_type": "code",
   "execution_count": 48,
   "id": "noble-antibody",
   "metadata": {},
   "outputs": [
    {
     "name": "stdout",
     "output_type": "stream",
     "text": [
      "No clusters found\n"
     ]
    }
   ],
   "source": [
    "visualize_clustering_result(tdidf_dbscan_clustering, tfidf_corpus)"
   ]
  },
  {
   "cell_type": "markdown",
   "id": "sharp-writer",
   "metadata": {},
   "source": [
    "# Try different arguments for `DBSCAN`"
   ]
  },
  {
   "cell_type": "code",
   "execution_count": 55,
   "id": "economic-airplane",
   "metadata": {
    "scrolled": false
   },
   "outputs": [
    {
     "name": "stdout",
     "output_type": "stream",
     "text": [
      "min_samples: 3, eps: 0.1\n",
      "No clusters found\n",
      "No clusters found\n",
      "min_samples: 3, eps: 0.3\n",
      "No clusters found\n",
      "No clusters found\n",
      "min_samples: 3, eps: 0.5\n",
      "No clusters found\n",
      "No clusters found\n",
      "min_samples: 3, eps: 1\n",
      "Estimated number of clusters: 4\n",
      "Estimated number of noise points: 1249\n"
     ]
    },
    {
     "data": {
      "image/png": "[encoded data removed]",
      "text/plain": [
       "<Figure size 432x288 with 1 Axes>"
      ]
     },
     "metadata": {
      "needs_background": "light"
     },
     "output_type": "display_data"
    },
    {
     "name": "stdout",
     "output_type": "stream",
     "text": [
      "Top terms per cluster:\n",
      "Cluster 0:\n",
      "('model', 'learning', 'algorithm', 'data', 'method', 'problem', 'function', 'matrix', 'kernel', 'regression')\n",
      "\n",
      "\n",
      "Cluster 1:\n",
      "('model', 'learning', 'algorithm', 'data', 'method', 'problem', 'function', 'matrix', 'kernel', 'regression')\n",
      "\n",
      "\n",
      "Cluster 2:\n",
      "('model', 'learning', 'algorithm', 'data', 'method', 'problem', 'function', 'matrix', 'kernel', 'regression')\n",
      "\n",
      "\n",
      "Cluster 3:\n",
      "('model', 'learning', 'algorithm', 'data', 'method', 'problem', 'function', 'matrix', 'kernel', 'regression')\n",
      "\n",
      "\n",
      "min_samples: 3, eps: 3\n",
      "Estimated number of clusters: 1\n",
      "Estimated number of noise points: 0\n"
     ]
    },
    {
     "data": {
      "image/png": "[encoded data removed]",
      "text/plain": [
       "<Figure size 432x288 with 1 Axes>"
      ]
     },
     "metadata": {
      "needs_background": "light"
     },
     "output_type": "display_data"
    },
    {
     "name": "stdout",
     "output_type": "stream",
     "text": [
      "Top terms per cluster:\n",
      "Cluster 0:\n",
      "('model', 'learning', 'algorithm', 'data', 'method', 'problem', 'function', 'matrix', 'kernel', 'regression')\n",
      "\n",
      "\n",
      "min_samples: 5, eps: 0.1\n",
      "No clusters found\n",
      "No clusters found\n",
      "min_samples: 5, eps: 0.3\n",
      "No clusters found\n",
      "No clusters found\n",
      "min_samples: 5, eps: 0.5\n",
      "No clusters found\n",
      "No clusters found\n",
      "min_samples: 5, eps: 1\n",
      "No clusters found\n",
      "No clusters found\n",
      "min_samples: 5, eps: 3\n",
      "Estimated number of clusters: 1\n",
      "Estimated number of noise points: 0\n"
     ]
    },
    {
     "data": {
      "image/png": "[encoded data removed]",
      "text/plain": [
       "<Figure size 432x288 with 1 Axes>"
      ]
     },
     "metadata": {
      "needs_background": "light"
     },
     "output_type": "display_data"
    },
    {
     "name": "stdout",
     "output_type": "stream",
     "text": [
      "Top terms per cluster:\n",
      "Cluster 0:\n",
      "('model', 'learning', 'algorithm', 'data', 'method', 'problem', 'function', 'matrix', 'kernel', 'regression')\n",
      "\n",
      "\n",
      "min_samples: 10, eps: 0.1\n",
      "No clusters found\n",
      "No clusters found\n",
      "min_samples: 10, eps: 0.3\n",
      "No clusters found\n",
      "No clusters found\n",
      "min_samples: 10, eps: 0.5\n",
      "No clusters found\n",
      "No clusters found\n",
      "min_samples: 10, eps: 1\n",
      "No clusters found\n",
      "No clusters found\n",
      "min_samples: 10, eps: 3\n",
      "Estimated number of clusters: 1\n",
      "Estimated number of noise points: 0\n"
     ]
    },
    {
     "data": {
      "image/png": "[encoded data removed]",
      "text/plain": [
       "<Figure size 432x288 with 1 Axes>"
      ]
     },
     "metadata": {
      "needs_background": "light"
     },
     "output_type": "display_data"
    },
    {
     "name": "stdout",
     "output_type": "stream",
     "text": [
      "Top terms per cluster:\n",
      "Cluster 0:\n",
      "('model', 'learning', 'algorithm', 'data', 'method', 'problem', 'function', 'matrix', 'kernel', 'regression')\n",
      "\n",
      "\n",
      "min_samples: 20, eps: 0.1\n",
      "No clusters found\n",
      "No clusters found\n",
      "min_samples: 20, eps: 0.3\n",
      "No clusters found\n",
      "No clusters found\n",
      "min_samples: 20, eps: 0.5\n",
      "No clusters found\n",
      "No clusters found\n",
      "min_samples: 20, eps: 1\n",
      "No clusters found\n",
      "No clusters found\n",
      "min_samples: 20, eps: 3\n",
      "Estimated number of clusters: 1\n",
      "Estimated number of noise points: 0\n"
     ]
    },
    {
     "data": {
      "image/png": "[encoded data removed]",
      "text/plain": [
       "<Figure size 432x288 with 1 Axes>"
      ]
     },
     "metadata": {
      "needs_background": "light"
     },
     "output_type": "display_data"
    },
    {
     "name": "stdout",
     "output_type": "stream",
     "text": [
      "Top terms per cluster:\n",
      "Cluster 0:\n",
      "('model', 'learning', 'algorithm', 'data', 'method', 'problem', 'function', 'matrix', 'kernel', 'regression')\n",
      "\n",
      "\n"
     ]
    }
   ],
   "source": [
    "min_samples = [3, 5, 10, 20]\n",
    "eps = [0.1, 0.3, 0.5, 1, 3]\n",
    "\n",
    "for samples in min_samples:\n",
    "    for eps in eps:\n",
    "        print(f'min_samples: {samples}, eps: {eps}')\n",
    "        \n",
    "        tdidf_dbscan_clustering_alt = DBSCAN(min_samples=samples, eps=eps, n_jobs=6)\n",
    "        tdidf_dbscan_clustering_alt.fit(tfidf_corpus.toarray())\n",
    "        \n",
    "        visualize_clustering_result(tdidf_dbscan_clustering_alt, tfidf_corpus)\n",
    "        clusters_alt = print_and_get_clusters(tdidf_dbscan_clustering_alt, tfidf_corpus, vectorizer)\n",
    "        \n",
    "        pickle.dump(tdidf_dbscan_clustering_alt, open(f'dbscan_data/dbcan_{samples}_{eps}', 'wb'))"
   ]
  },
  {
   "cell_type": "markdown",
   "id": "handmade-converter",
   "metadata": {},
   "source": [
    "#  Remove words which appear often in all clusters"
   ]
  },
  {
   "cell_type": "code",
   "execution_count": 68,
   "id": "public-tournament",
   "metadata": {},
   "outputs": [
    {
     "data": {
      "text/plain": [
       "<bound method Counter.most_common of Counter({'model': 4, 'learning': 4, 'algorithm': 4, 'data': 4, 'method': 4, 'problem': 4, 'function': 4, 'matrix': 4, 'kernel': 4, 'regression': 4})>"
      ]
     },
     "execution_count": 68,
     "metadata": {},
     "output_type": "execute_result"
    }
   ],
   "source": [
    "terms = list(itertools.chain.from_iterable(clusters))\n",
    "Counter(terms).most_common"
   ]
  },
  {
   "cell_type": "code",
   "execution_count": 69,
   "id": "efficient-cleveland",
   "metadata": {},
   "outputs": [],
   "source": [
    "custom_stopwords = [\"model\", \"learning\", \"algorithm\", \"data\", \"method\"]"
   ]
  },
  {
   "cell_type": "code",
   "execution_count": 70,
   "id": "exceptional-zimbabwe",
   "metadata": {},
   "outputs": [
    {
     "name": "stderr",
     "output_type": "stream",
     "text": [
      "[nltk_data] Downloading package stopwords to\n",
      "[nltk_data]     C:\\Users\\Donat\\AppData\\Roaming\\nltk_data...\n",
      "[nltk_data]   Package stopwords is already up-to-date!\n",
      "[nltk_data] Downloading package punkt to\n",
      "[nltk_data]     C:\\Users\\Donat\\AppData\\Roaming\\nltk_data...\n",
      "[nltk_data]   Package punkt is already up-to-date!\n",
      "86it [00:00, 851.49it/s]"
     ]
    },
    {
     "name": "stdout",
     "output_type": "stream",
     "text": [
      "Dropping 0 entries of corpus, due to nan ...\n",
      "Starting tokenization ...\n"
     ]
    },
    {
     "name": "stderr",
     "output_type": "stream",
     "text": [
      "1261it [00:01, 668.55it/s]\n"
     ]
    }
   ],
   "source": [
    "corpus_stopwords = load_data()\n",
    "\n",
    "corpus_stopwords = preprocessing(\n",
    "    corpus_stopwords,\n",
    "    lib=lib,\n",
    "    stemming=stemming,\n",
    "    lemmatization=lemmatization,\n",
    "    min_word_len=2,\n",
    "    max_word_len=15,\n",
    "    custom_stopwords = custom_stopwords\n",
    ")"
   ]
  },
  {
   "cell_type": "code",
   "execution_count": 71,
   "id": "reflected-fancy",
   "metadata": {},
   "outputs": [],
   "source": [
    "vectorizer_stopwords = TfidfVectorizer(tokenizer=lambda text: text, lowercase=False)  \n",
    "tfidf_corpus_stopwords = vectorizer_stopwords.fit_transform(corpus_stopwords[\"token\"])"
   ]
  },
  {
   "cell_type": "code",
   "execution_count": 72,
   "id": "commercial-region",
   "metadata": {},
   "outputs": [
    {
     "data": {
      "text/plain": [
       "DBSCAN(eps=1, min_samples=3, n_jobs=6)"
      ]
     },
     "execution_count": 72,
     "metadata": {},
     "output_type": "execute_result"
    }
   ],
   "source": [
    "tdidf_dbscan_clustering_stopwords = DBSCAN(min_samples=3, eps=1, n_jobs=6)\n",
    "tdidf_dbscan_clustering_stopwords.fit(tfidf_corpus_stopwords.toarray())"
   ]
  },
  {
   "cell_type": "code",
   "execution_count": 76,
   "id": "studied-purple",
   "metadata": {},
   "outputs": [
    {
     "name": "stdout",
     "output_type": "stream",
     "text": [
      "Estimated number of clusters: 4\n",
      "Estimated number of noise points: 1249\n"
     ]
    },
    {
     "data": {
      "image/png": "[encoded data removed]",
      "text/plain": [
       "<Figure size 432x288 with 1 Axes>"
      ]
     },
     "metadata": {
      "needs_background": "light"
     },
     "output_type": "display_data"
    }
   ],
   "source": [
    "visualize_clustering_result(tdidf_dbscan_clustering_stopwords, tfidf_corpus_stopwords)"
   ]
  },
  {
   "cell_type": "code",
   "execution_count": 74,
   "id": "leading-newsletter",
   "metadata": {},
   "outputs": [
    {
     "name": "stdout",
     "output_type": "stream",
     "text": [
      "Top terms per cluster:\n",
      "Cluster 0:\n",
      "('moderate', 'learnt', 'algorithmic', 'dataflow', 'metric', 'proceeding', 'functionality', 'matter', 'kernelized', 'regularisation')\n",
      "\n",
      "\n",
      "Cluster 1:\n",
      "('moderate', 'learnt', 'algorithmic', 'dataflow', 'metric', 'proceeding', 'functionality', 'matter', 'kernelized', 'regularisation')\n",
      "\n",
      "\n",
      "Cluster 2:\n",
      "('moderate', 'learnt', 'algorithmic', 'dataflow', 'metric', 'proceeding', 'functionality', 'matter', 'kernelized', 'regularisation')\n",
      "\n",
      "\n",
      "Cluster 3:\n",
      "('moderate', 'learnt', 'algorithmic', 'dataflow', 'metric', 'proceeding', 'functionality', 'matter', 'kernelized', 'regularisation')\n",
      "\n",
      "\n"
     ]
    }
   ],
   "source": [
    "clusters = print_and_get_clusters(tdidf_dbscan_clustering_stopwords, tfidf_corpus_stopwords, vectorizer_stopwords)"
   ]
  },
  {
   "cell_type": "markdown",
   "id": "dutch-tract",
   "metadata": {},
   "source": [
    "# Metrics"
   ]
  },
  {
   "cell_type": "code",
   "execution_count": 75,
   "id": "engaged-secondary",
   "metadata": {},
   "outputs": [
    {
     "name": "stdout",
     "output_type": "stream",
     "text": [
      "                    model type  silhouette_score  calinski_harabasz_score  \\\n",
      "0                 normal model         -0.009707                 2.061513   \n",
      "1  model with custom stopwords         -0.010665                 2.052975   \n",
      "\n",
      "   davies_bouldin_score  \n",
      "0              1.887693  \n",
      "1              1.890026  \n"
     ]
    }
   ],
   "source": [
    "def calc_scores(corpus, model):\n",
    "    return metrics.silhouette_score(corpus, model.labels_, metric='euclidean'), metrics.calinski_harabasz_score(corpus.toarray(), model.labels_), metrics.davies_bouldin_score(corpus.toarray(), model.labels_)\n",
    "\n",
    "scores = []\n",
    "\n",
    "score = list(calc_scores(tfidf_corpus, tdidf_dbscan_clustering))\n",
    "score.insert(0, 'normal model')\n",
    "scores.append(score)\n",
    "\n",
    "score = list(calc_scores(tfidf_corpus_stopwords, tdidf_dbscan_clustering_stopwords))\n",
    "score.insert(0, 'model with custom stopwords')\n",
    "scores.append(score)\n",
    "\n",
    "\n",
    "scores = pd.DataFrame(scores, columns=[\"model type\",\"silhouette_score\", \"calinski_harabasz_score\", \"davies_bouldin_score\"])\n",
    "print(scores)"
   ]
  },
  {
   "cell_type": "code",
   "execution_count": null,
   "id": "obvious-liberal",
   "metadata": {},
   "outputs": [],
   "source": []
  }
 ],
 "metadata": {
  "kernelspec": {
   "display_name": "Python 3",
   "language": "python",
   "name": "python3"
  },
  "language_info": {
   "codemirror_mode": {
    "name": "ipython",
    "version": 3
   },
   "file_extension": ".py",
   "mimetype": "text/x-python",
   "name": "python",
   "nbconvert_exporter": "python",
   "pygments_lexer": "ipython3",
   "version": "3.7.7"
  }
 },
 "nbformat": 4,
 "nbformat_minor": 5
}
