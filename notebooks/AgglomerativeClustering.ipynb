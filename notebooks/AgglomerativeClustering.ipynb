{
 "cells": [
  {
   "cell_type": "code",
   "execution_count": 1,
   "id": "hired-multiple",
   "metadata": {},
   "outputs": [],
   "source": [
    "import json\n",
    "import pprint\n",
    "from pathlib import Path\n",
    "import sys\n",
    "sys.path.insert(1, '../src/utils')\n",
    "import ipdb\n",
    "import itertools\n",
    "from collections import Counter\n",
    "\n",
    "import numpy as np\n",
    "import pandas as pd\n",
    "import matplotlib.pyplot as plt\n",
    "\n",
    "from gensim.utils import simple_preprocess\n",
    "from gensim import corpora, models\n",
    "from gensim.models import Word2Vec\n",
    "from gensim.models import CoherenceModel\n",
    "from sklearn.manifold import TSNE, SpectralEmbedding\n",
    "from sklearn.cluster import AgglomerativeClustering\n",
    "from sklearn.feature_extraction.text import TfidfVectorizer\n",
    "from sklearn import metrics\n",
    "from sklearn.pipeline import make_pipeline\n",
    "from sklearn.decomposition import TruncatedSVD\n",
    "from sklearn.preprocessing import Normalizer\n",
    "from sklearn.neighbors import kneighbors_graph\n",
    "import pyLDAvis.gensim\n",
    "pyLDAvis.enable_notebook()\n",
    "from scipy.spatial.distance import cdist\n",
    "\n",
    "from data import preprocessing\n",
    "\n",
    "import pickle"
   ]
  },
  {
   "cell_type": "code",
   "execution_count": 2,
   "id": "young-requirement",
   "metadata": {},
   "outputs": [
    {
     "name": "stderr",
     "output_type": "stream",
     "text": [
      "C:\\Users\\Donat\\Anaconda3\\lib\\site-packages\\ipykernel\\ipkernel.py:283: DeprecationWarning: `should_run_async` will not call `transform_cell` automatically in the future. Please pass the result to `transformed_cell` argument and any exception that happen during thetransform in `preprocessing_exc_tuple` in IPython 7.17 and above.\n",
      "  and should_run_async(code)\n"
     ]
    }
   ],
   "source": [
    "import warnings\n",
    "warnings.filterwarnings(\"ignore\", category=DeprecationWarning)"
   ]
  },
  {
   "cell_type": "code",
   "execution_count": 3,
   "id": "subject-timer",
   "metadata": {},
   "outputs": [
    {
     "name": "stderr",
     "output_type": "stream",
     "text": [
      "[nltk_data] Downloading package wordnet to\n",
      "[nltk_data]     C:\\Users\\Donat\\AppData\\Roaming\\nltk_data...\n",
      "[nltk_data]   Package wordnet is already up-to-date!\n"
     ]
    },
    {
     "data": {
      "text/plain": [
       "True"
      ]
     },
     "execution_count": 3,
     "metadata": {},
     "output_type": "execute_result"
    }
   ],
   "source": [
    "import nltk\n",
    "nltk.download('wordnet')"
   ]
  },
  {
   "cell_type": "markdown",
   "id": "cleared-caribbean",
   "metadata": {},
   "source": [
    "# Variables"
   ]
  },
  {
   "cell_type": "code",
   "execution_count": 4,
   "id": "extensive-stadium",
   "metadata": {},
   "outputs": [],
   "source": [
    "num_topics = 15\n",
    "use_title = True\n",
    "# don't use stemming\n",
    "stemming = False\n",
    "lemmatization = True\n",
    "# use nltk since it is a lot faster than spacy and the results are better with nltk\n",
    "lib = \"nltk\"\n",
    "\n",
    "input_path = Path(\"../src/data/data_jmlr_vol13-21.json\")"
   ]
  },
  {
   "cell_type": "markdown",
   "id": "included-stock",
   "metadata": {},
   "source": [
    "# Data loading and preparation"
   ]
  },
  {
   "cell_type": "markdown",
   "id": "million-dealing",
   "metadata": {},
   "source": [
    "## Load data"
   ]
  },
  {
   "cell_type": "code",
   "execution_count": 5,
   "id": "behavioral-young",
   "metadata": {},
   "outputs": [],
   "source": [
    "def load_data():\n",
    "    with open(input_path, encoding=\"utf-8\") as f:\n",
    "        data = json.load(f)\n",
    "    data_df = pd.json_normalize(data['papers'])\n",
    "    corpus = data_df[\"abstract\"]\n",
    "    if use_title:\n",
    "        corpus = data_df[\"title\"] + \" \" + corpus \n",
    "    return corpus\n",
    "\n",
    "loaded_corpus = load_data()"
   ]
  },
  {
   "cell_type": "markdown",
   "id": "previous-motel",
   "metadata": {},
   "source": [
    "## Preprocessing"
   ]
  },
  {
   "cell_type": "code",
   "execution_count": 6,
   "id": "backed-turning",
   "metadata": {},
   "outputs": [
    {
     "name": "stderr",
     "output_type": "stream",
     "text": [
      "[nltk_data] Downloading package stopwords to\n",
      "[nltk_data]     C:\\Users\\Donat\\AppData\\Roaming\\nltk_data...\n",
      "[nltk_data]   Package stopwords is already up-to-date!\n",
      "[nltk_data] Downloading package punkt to\n",
      "[nltk_data]     C:\\Users\\Donat\\AppData\\Roaming\\nltk_data...\n",
      "[nltk_data]   Package punkt is already up-to-date!\n",
      "\r",
      "0it [00:00, ?it/s]"
     ]
    },
    {
     "name": "stdout",
     "output_type": "stream",
     "text": [
      "Dropping 0 entries of corpus, due to nan ...\n",
      "Starting tokenization ...\n"
     ]
    },
    {
     "name": "stderr",
     "output_type": "stream",
     "text": [
      "1261it [00:05, 221.81it/s]\n"
     ]
    }
   ],
   "source": [
    "preprocessed_corpus = preprocessing(\n",
    "    loaded_corpus,\n",
    "    lib=lib,\n",
    "    stemming=stemming,\n",
    "    lemmatization=lemmatization,\n",
    "    min_word_len=2,\n",
    "    max_word_len=15\n",
    ")"
   ]
  },
  {
   "cell_type": "markdown",
   "id": "attended-wisdom",
   "metadata": {},
   "source": [
    "### TD-IDF"
   ]
  },
  {
   "cell_type": "code",
   "execution_count": 7,
   "id": "coordinated-radical",
   "metadata": {},
   "outputs": [],
   "source": [
    "vectorizer = TfidfVectorizer(tokenizer=lambda text: text, lowercase=False)  \n",
    "tfidf_corpus = vectorizer.fit_transform(preprocessed_corpus[\"token\"])"
   ]
  },
  {
   "cell_type": "markdown",
   "id": "worthy-safety",
   "metadata": {},
   "source": [
    "# Clustering"
   ]
  },
  {
   "cell_type": "code",
   "execution_count": 8,
   "id": "stylish-trinidad",
   "metadata": {},
   "outputs": [
    {
     "data": {
      "text/plain": [
       "AgglomerativeClustering(n_clusters=15)"
      ]
     },
     "execution_count": 8,
     "metadata": {},
     "output_type": "execute_result"
    }
   ],
   "source": [
    "tdidf_agg_clustering = AgglomerativeClustering(n_clusters=num_topics, linkage='ward')\n",
    "tdidf_agg_clustering.fit(tfidf_corpus.toarray())"
   ]
  },
  {
   "cell_type": "code",
   "execution_count": 9,
   "id": "understood-authorization",
   "metadata": {},
   "outputs": [],
   "source": [
    "pickle.dump(tdidf_agg_clustering, open('aggclust_data/tdidf_agg_clustering', 'wb'))"
   ]
  },
  {
   "cell_type": "code",
   "execution_count": 10,
   "id": "sacred-wells",
   "metadata": {
    "scrolled": true
   },
   "outputs": [
    {
     "name": "stdout",
     "output_type": "stream",
     "text": [
      "Top terms per cluster:\n",
      "Cluster 0:\n",
      "('model', 'learning', 'algorithm', 'data', 'method', 'problem', 'function', 'feature', 'set', 'approach')\n",
      "\n",
      "\n",
      "Cluster 1:\n",
      "('model', 'graphical', 'lasso', 'covariance', 'data', 'matrix', 'method', 'estimator', 'gaussian', 'graph')\n",
      "\n",
      "\n",
      "Cluster 2:\n",
      "('learning', 'label', 'data', 'algorithm', 'class', 'classification', 'classifier', 'machine', 'svm', 'method')\n",
      "\n",
      "\n",
      "Cluster 3:\n",
      "('gaussian', 'process', 'model', 'inference', 'variational', 'algorithm', 'approximation', 'bayesian', 'method', 'prior')\n",
      "\n",
      "\n",
      "Cluster 4:\n",
      "('network', 'model', 'community', 'neural', 'node', 'layer', 'data', 'algorithm', 'method', 'learning')\n",
      "\n",
      "\n",
      "Cluster 5:\n",
      "('kernel', 'distributed', 'algorithm', 'regression', 'rate', 'method', 'learning', 'data', 'function', 'bound')\n",
      "\n",
      "\n",
      "Cluster 6:\n",
      "('clustering', 'cluster', 'algorithm', 'graph', 'data', 'based', 'spectral', 'matrix', 'model', 'number')\n",
      "\n",
      "\n",
      "Cluster 7:\n",
      "('causal', 'data', 'effect', 'variable', 'method', 'discovery', 'approach', 'model', 'set', 'algorithm')\n",
      "\n",
      "\n",
      "Cluster 8:\n",
      "('matrix', 'rank', 'method', 'low', 'bound', 'completion', 'approximation', 'sampling', 'algorithm', 'model')\n",
      "\n",
      "\n",
      "Cluster 9:\n",
      "('policy', 'learning', 'algorithm', 'iteration', 'method', 'gradient', 'search', 'problem', 'td', 'action')\n",
      "\n",
      "\n",
      "Cluster 10:\n",
      "('graph', 'dag', 'learning', 'model', 'algorithm', 'random', 'problem', 'data', 'markov', 'distribution')\n",
      "\n",
      "\n",
      "Cluster 11:\n",
      "('algorithm', 'method', 'stochastic', 'convex', 'gradient', 'problem', 'function', 'optimization', 'non', 'learning')\n",
      "\n",
      "\n",
      "Cluster 12:\n",
      "('density', 'estimation', 'estimator', 'cluster', 'kernel', 'algorithm', 'mean', 'tree', 'gradient', 'line')\n",
      "\n",
      "\n",
      "Cluster 13:\n",
      "('tensor', 'data', 'rank', 'model', 'decomposition', 'problem', 'latent', 'variable', 'analysis', 'estimation')\n",
      "\n",
      "\n",
      "Cluster 14:\n",
      "('kernel', 'learning', 'mean', 'estimator', 'data', 'distribution', 'approximation', 'probability', 'measure', 'class')\n",
      "\n",
      "\n"
     ]
    }
   ],
   "source": [
    "def get_top_words(vectorizer, corpus):\n",
    "    scores = zip(vectorizer.get_feature_names(),\n",
    "                 np.asarray(corpus.sum(axis=0)).ravel())\n",
    "    sorted_scores = list(zip(*sorted(scores, key=lambda x: x[1], reverse=True)))\n",
    "    top_words = sorted_scores[0][:10]\n",
    "    return top_words\n",
    "    \n",
    "\n",
    "def print_and_get_clusters(model, corpus):  \n",
    "    n_clusters_ = len(np.unique(model.labels_))\n",
    "    \n",
    "    clusters = []\n",
    "    print(\"Top terms per cluster:\")\n",
    "    for i in range(n_clusters_):\n",
    "        print(\"Cluster %d:\" % i)\n",
    "        vectorizer_terms = TfidfVectorizer(tokenizer=lambda text: text, lowercase=False)  \n",
    "        tfidf_corpus_terms = vectorizer_terms.fit_transform(corpus.iloc[np.where(model.labels_ == i)][\"token\"])\n",
    "        top_words = get_top_words(vectorizer_terms, tfidf_corpus_terms)\n",
    "        print(top_words)\n",
    "        clusters.append(top_words)\n",
    "        print(\"\\n\")\n",
    "    return clusters\n",
    "\n",
    "clusters = print_and_get_clusters(tdidf_agg_clustering, preprocessed_corpus)"
   ]
  },
  {
   "cell_type": "markdown",
   "id": "individual-weather",
   "metadata": {},
   "source": [
    "# Visualization"
   ]
  },
  {
   "cell_type": "code",
   "execution_count": 11,
   "id": "greatest-function",
   "metadata": {},
   "outputs": [],
   "source": [
    "def visualize_clustering_result_arr(model, X):\n",
    "    labels = model.labels_\n",
    "    print(\"Number of points: %i\" % labels.size)\n",
    "\n",
    "    for l in np.unique(labels):\n",
    "        plt.scatter(X[labels == l, 0], X[labels == l, 1],\n",
    "                   color=plt.cm.jet(float(l) / np.max(labels + 1)),\n",
    "                   s=20, edgecolor='k')\n",
    "    plt.show()\n",
    "\n",
    "def visualize_clustering_result(model, corpus):\n",
    "    X = corpus.toarray()\n",
    "    visualize_clustering_result_arr(model, X)"
   ]
  },
  {
   "cell_type": "code",
   "execution_count": 12,
   "id": "liable-outreach",
   "metadata": {},
   "outputs": [
    {
     "name": "stdout",
     "output_type": "stream",
     "text": [
      "Number of points: 1261\n"
     ]
    },
    {
     "data": {
      "image/png": "[encoded data removed]",
      "text/plain": [
       "<Figure size 432x288 with 1 Axes>"
      ]
     },
     "metadata": {
      "needs_background": "light"
     },
     "output_type": "display_data"
    }
   ],
   "source": [
    "visualize_clustering_result(tdidf_agg_clustering, tfidf_corpus)"
   ]
  },
  {
   "cell_type": "markdown",
   "id": "antique-landing",
   "metadata": {},
   "source": [
    "# Try different arguments for `AgglomerativeClustering`"
   ]
  },
  {
   "cell_type": "code",
   "execution_count": 13,
   "id": "vertical-accounting",
   "metadata": {},
   "outputs": [],
   "source": [
    "connectivity = kneighbors_graph(tfidf_corpus.toarray(), n_neighbors=10, include_self=False)"
   ]
  },
  {
   "cell_type": "code",
   "execution_count": 14,
   "id": "personal-essex",
   "metadata": {},
   "outputs": [],
   "source": [
    "tdidf_agg_clustering_conn = AgglomerativeClustering(connectivity=connectivity, n_clusters=num_topics, linkage='ward')\n",
    "tdidf_agg_clustering_conn.fit(tfidf_corpus.toarray())\n",
    "pickle.dump(tdidf_agg_clustering, open('aggclust_data/tdidf_agg_clustering_conn', 'wb'))"
   ]
  },
  {
   "cell_type": "code",
   "execution_count": 15,
   "id": "pending-effectiveness",
   "metadata": {
    "scrolled": true
   },
   "outputs": [
    {
     "name": "stdout",
     "output_type": "stream",
     "text": [
      "Top terms per cluster:\n",
      "Cluster 0:\n",
      "('kernel', 'density', 'estimation', 'estimator', 'mean', 'learning', 'algorithm', 'data', 'cluster', 'function')\n",
      "\n",
      "\n",
      "Cluster 1:\n",
      "('model', 'learning', 'data', 'algorithm', 'method', 'problem', 'feature', 'function', 'set', 'based')\n",
      "\n",
      "\n",
      "Cluster 2:\n",
      "('model', 'graphical', 'algorithm', 'network', 'graph', 'lasso', 'data', 'method', 'covariance', 'matrix')\n",
      "\n",
      "\n",
      "Cluster 3:\n",
      "('model', 'process', 'variational', 'gaussian', 'inference', 'method', 'approximation', 'prior', 'approach', 'bayesian')\n",
      "\n",
      "\n",
      "Cluster 4:\n",
      "('regression', 'rate', 'learning', 'kernel', 'algorithm', 'distributed', 'method', 'convergence', 'error', 'bound')\n",
      "\n",
      "\n",
      "Cluster 5:\n",
      "('learning', 'manifold', 'machine', 'package', 'ensemble', 'python', 'library', 'data', 'algorithm', 'toolbox')\n",
      "\n",
      "\n",
      "Cluster 6:\n",
      "('algorithm', 'method', 'stochastic', 'convex', 'gradient', 'optimization', 'problem', 'function', 'convergence', 'distributed')\n",
      "\n",
      "\n",
      "Cluster 7:\n",
      "('causal', 'effect', 'data', 'variable', 'model', 'method', 'discovery', 'approach', 'algorithm', 'learning')\n",
      "\n",
      "\n",
      "Cluster 8:\n",
      "('clustering', 'cluster', 'algorithm', 'graph', 'data', 'based', 'spectral', 'matrix', 'model', 'number')\n",
      "\n",
      "\n",
      "Cluster 9:\n",
      "('matrix', 'rank', 'sampling', 'norm', 'method', 'low', 'bound', 'algorithm', 'completion', 'approximation')\n",
      "\n",
      "\n",
      "Cluster 10:\n",
      "('tensor', 'data', 'rank', 'model', 'decomposition', 'problem', 'latent', 'variable', 'analysis', 'estimation')\n",
      "\n",
      "\n",
      "Cluster 11:\n",
      "('policy', 'learning', 'algorithm', 'iteration', 'method', 'gradient', 'search', 'td', 'action', 'evaluation')\n",
      "\n",
      "\n",
      "Cluster 12:\n",
      "('network', 'neural', 'model', 'layer', 'distribution', 'machine', 'data', 'boltzmann', 'restricted', 'training')\n",
      "\n",
      "\n",
      "Cluster 13:\n",
      "('learning', 'algorithm', 'problem', 'online', 'regret', 'model', 'agent', 'policy', 'reinforcement', 'function')\n",
      "\n",
      "\n",
      "Cluster 14:\n",
      "('graph', 'random', 'learning', 'problem', 'spectral', 'cut', 'algorithm', 'time', 'data', 'vertex')\n",
      "\n",
      "\n"
     ]
    }
   ],
   "source": [
    "clusters = print_and_get_clusters(tdidf_agg_clustering_conn, preprocessed_corpus)"
   ]
  },
  {
   "cell_type": "code",
   "execution_count": 16,
   "id": "shared-transport",
   "metadata": {},
   "outputs": [
    {
     "name": "stdout",
     "output_type": "stream",
     "text": [
      "Number of points: 1261\n"
     ]
    },
    {
     "data": {
      "image/png": "[encoded data removed]",
      "text/plain": [
       "<Figure size 432x288 with 1 Axes>"
      ]
     },
     "metadata": {
      "needs_background": "light"
     },
     "output_type": "display_data"
    }
   ],
   "source": [
    "visualize_clustering_result(tdidf_agg_clustering_conn, tfidf_corpus)"
   ]
  },
  {
   "cell_type": "markdown",
   "id": "treated-bidder",
   "metadata": {},
   "source": [
    "# Spectral embedding"
   ]
  },
  {
   "cell_type": "code",
   "execution_count": 17,
   "id": "touched-leisure",
   "metadata": {},
   "outputs": [],
   "source": [
    "vectorizer_spec_embedding = TfidfVectorizer(tokenizer=lambda text: text, lowercase=False)  \n",
    "tfidf_corpus_spec_embedding = vectorizer_spec_embedding.fit_transform(preprocessed_corpus[\"token\"])\n",
    "tfidf_corpus_spec_embedding_array = SpectralEmbedding(n_components=2).fit_transform(tfidf_corpus_spec_embedding.toarray())"
   ]
  },
  {
   "cell_type": "code",
   "execution_count": 18,
   "id": "proper-fifth",
   "metadata": {},
   "outputs": [],
   "source": [
    "tdidf_agg_clustering_spectral = AgglomerativeClustering(n_clusters=num_topics, linkage='ward')\n",
    "tdidf_agg_clustering_spectral.fit(tfidf_corpus_spec_embedding_array)\n",
    "pickle.dump(tdidf_agg_clustering, open('aggclust_data/tdidf_agg_clustering_spectral', 'wb'))"
   ]
  },
  {
   "cell_type": "code",
   "execution_count": 19,
   "id": "expensive-partner",
   "metadata": {
    "scrolled": true
   },
   "outputs": [
    {
     "name": "stdout",
     "output_type": "stream",
     "text": [
      "Top terms per cluster:\n",
      "Cluster 0:\n",
      "('model', 'network', 'data', 'learning', 'graph', 'method', 'neural', 'time', 'algorithm', 'inference')\n",
      "\n",
      "\n",
      "Cluster 1:\n",
      "('learning', 'policy', 'task', 'algorithm', 'multi', 'kernel', 'data', 'problem', 'label', 'agent')\n",
      "\n",
      "\n",
      "Cluster 2:\n",
      "('model', 'graph', 'graphical', 'algorithm', 'variable', 'data', 'causal', 'inference', 'latent', 'gaussian')\n",
      "\n",
      "\n",
      "Cluster 3:\n",
      "('algorithm', 'data', 'model', 'method', 'clustering', 'distribution', 'learning', 'approach', 'regression', 'set')\n",
      "\n",
      "\n",
      "Cluster 4:\n",
      "('matrix', 'algorithm', 'regression', 'rank', 'method', 'estimator', 'bound', 'estimation', 'model', 'low')\n",
      "\n",
      "\n",
      "Cluster 5:\n",
      "('learning', 'policy', 'algorithm', 'problem', 'optimization', 'method', 'function', 'online', 'bound', 'based')\n",
      "\n",
      "\n",
      "Cluster 6:\n",
      "('learning', 'python', 'library', 'data', 'model', 'source', 'machine', 'time', 'toolbox', 'open')\n",
      "\n",
      "\n",
      "Cluster 7:\n",
      "('regression', 'algorithm', 'bound', 'learning', 'problem', 'method', 'rate', 'function', 'gradient', 'convex')\n",
      "\n",
      "\n",
      "Cluster 8:\n",
      "('algorithm', 'stochastic', 'method', 'convex', 'function', 'problem', 'optimization', 'loss', 'gradient', 'convergence')\n",
      "\n",
      "\n",
      "Cluster 9:\n",
      "('data', 'model', 'learning', 'package', 'image', 'python', 'neural', 'recognition', 'algorithm', 'causal')\n",
      "\n",
      "\n",
      "Cluster 10:\n",
      "('feature', 'data', 'model', 'learning', 'based', 'algorithm', 'method', 'set', 'representation', 'selection')\n",
      "\n",
      "\n",
      "Cluster 11:\n",
      "('learning', 'machine', 'algorithm', 'multi', 'library', 'framework', 'label', 'classification', 'package', 'data')\n",
      "\n",
      "\n",
      "Cluster 12:\n",
      "('kernel', 'method', 'data', 'bound', 'algorithm', 'learning', 'problem', 'estimator', 'regression', 'error')\n",
      "\n",
      "\n",
      "Cluster 13:\n",
      "('matrix', 'data', 'method', 'sparse', 'clustering', 'covariance', 'algorithm', 'model', 'cluster', 'estimation')\n",
      "\n",
      "\n",
      "Cluster 14:\n",
      "('learning', 'data', 'algorithm', 'class', 'method', 'kernel', 'classifier', 'model', 'classification', 'set')\n",
      "\n",
      "\n"
     ]
    }
   ],
   "source": [
    "clusters = print_and_get_clusters(tdidf_agg_clustering_spectral, preprocessed_corpus)"
   ]
  },
  {
   "cell_type": "code",
   "execution_count": 20,
   "id": "atlantic-asian",
   "metadata": {},
   "outputs": [
    {
     "name": "stdout",
     "output_type": "stream",
     "text": [
      "Number of points: 1261\n"
     ]
    },
    {
     "data": {
      "image/png": "[encoded data removed]",
      "text/plain": [
       "<Figure size 432x288 with 1 Axes>"
      ]
     },
     "metadata": {
      "needs_background": "light"
     },
     "output_type": "display_data"
    }
   ],
   "source": [
    "visualize_clustering_result_arr(tdidf_agg_clustering_spectral, tfidf_corpus_spec_embedding_array)"
   ]
  },
  {
   "cell_type": "markdown",
   "id": "breathing-confidence",
   "metadata": {},
   "source": [
    "#  Remove words which appear often in all clusters"
   ]
  },
  {
   "cell_type": "code",
   "execution_count": 21,
   "id": "hourly-conclusion",
   "metadata": {},
   "outputs": [
    {
     "data": {
      "text/plain": [
       "<bound method Counter.most_common of Counter({'algorithm': 14, 'data': 11, 'learning': 11, 'method': 10, 'model': 9, 'problem': 5, 'regression': 4, 'bound': 4, 'kernel': 3, 'set': 3, 'function': 3, 'graph': 2, 'neural': 2, 'time': 2, 'inference': 2, 'policy': 2, 'multi': 2, 'label': 2, 'causal': 2, 'clustering': 2, 'matrix': 2, 'estimator': 2, 'estimation': 2, 'optimization': 2, 'based': 2, 'python': 2, 'library': 2, 'machine': 2, 'gradient': 2, 'convex': 2, 'package': 2, 'classification': 2, 'network': 1, 'task': 1, 'agent': 1, 'graphical': 1, 'variable': 1, 'latent': 1, 'gaussian': 1, 'distribution': 1, 'approach': 1, 'rank': 1, 'low': 1, 'online': 1, 'source': 1, 'toolbox': 1, 'open': 1, 'rate': 1, 'stochastic': 1, 'loss': 1, 'convergence': 1, 'image': 1, 'recognition': 1, 'feature': 1, 'representation': 1, 'selection': 1, 'framework': 1, 'error': 1, 'sparse': 1, 'covariance': 1, 'cluster': 1, 'class': 1, 'classifier': 1})>"
      ]
     },
     "execution_count": 21,
     "metadata": {},
     "output_type": "execute_result"
    }
   ],
   "source": [
    "terms = list(itertools.chain.from_iterable(clusters))\n",
    "Counter(terms).most_common"
   ]
  },
  {
   "cell_type": "code",
   "execution_count": 22,
   "id": "exciting-steps",
   "metadata": {},
   "outputs": [],
   "source": [
    "custom_stopwords = [\"algorithm\", \"data\", \"learning\"]"
   ]
  },
  {
   "cell_type": "code",
   "execution_count": 23,
   "id": "appreciated-chapel",
   "metadata": {},
   "outputs": [
    {
     "name": "stderr",
     "output_type": "stream",
     "text": [
      "[nltk_data] Downloading package stopwords to\n",
      "[nltk_data]     C:\\Users\\Donat\\AppData\\Roaming\\nltk_data...\n",
      "[nltk_data]   Package stopwords is already up-to-date!\n",
      "[nltk_data] Downloading package punkt to\n",
      "[nltk_data]     C:\\Users\\Donat\\AppData\\Roaming\\nltk_data...\n",
      "[nltk_data]   Package punkt is already up-to-date!\n",
      "40it [00:00, 388.36it/s]"
     ]
    },
    {
     "name": "stdout",
     "output_type": "stream",
     "text": [
      "Dropping 0 entries of corpus, due to nan ...\n",
      "Starting tokenization ...\n"
     ]
    },
    {
     "name": "stderr",
     "output_type": "stream",
     "text": [
      "1261it [00:02, 430.96it/s]\n"
     ]
    }
   ],
   "source": [
    "corpus_stopwords = load_data()\n",
    "\n",
    "corpus_stopwords = preprocessing(\n",
    "    corpus_stopwords,\n",
    "    lib=lib,\n",
    "    stemming=stemming,\n",
    "    lemmatization=lemmatization,\n",
    "    min_word_len=2,\n",
    "    max_word_len=15,\n",
    "    custom_stopwords = custom_stopwords\n",
    ")"
   ]
  },
  {
   "cell_type": "code",
   "execution_count": 24,
   "id": "alike-acrylic",
   "metadata": {},
   "outputs": [],
   "source": [
    "vectorizer_stopwords = TfidfVectorizer(tokenizer=lambda text: text, lowercase=False)  \n",
    "tfidf_corpus_stopwords = vectorizer_stopwords.fit_transform(corpus_stopwords[\"token\"])"
   ]
  },
  {
   "cell_type": "code",
   "execution_count": 25,
   "id": "sufficient-possession",
   "metadata": {},
   "outputs": [],
   "source": [
    "tdidf_agg_clustering_stopwords = AgglomerativeClustering(n_clusters=num_topics, linkage='ward')\n",
    "tdidf_agg_clustering_stopwords.fit(tfidf_corpus_stopwords.toarray())\n",
    "pickle.dump(tdidf_agg_clustering, open('aggclust_data/tdidf_agg_clustering_stopwords', 'wb'))"
   ]
  },
  {
   "cell_type": "code",
   "execution_count": 26,
   "id": "affected-highway",
   "metadata": {},
   "outputs": [
    {
     "name": "stdout",
     "output_type": "stream",
     "text": [
      "Number of points: 1261\n"
     ]
    },
    {
     "data": {
      "image/png": "[encoded data removed]",
      "text/plain": [
       "<Figure size 432x288 with 1 Axes>"
      ]
     },
     "metadata": {
      "needs_background": "light"
     },
     "output_type": "display_data"
    }
   ],
   "source": [
    "visualize_clustering_result(tdidf_agg_clustering_stopwords, tfidf_corpus_stopwords)"
   ]
  },
  {
   "cell_type": "code",
   "execution_count": 27,
   "id": "clean-panama",
   "metadata": {
    "scrolled": true
   },
   "outputs": [
    {
     "name": "stdout",
     "output_type": "stream",
     "text": [
      "Top terms per cluster:\n",
      "Cluster 0:\n",
      "('graph', 'model', 'graphical', 'network', 'community', 'change', 'method', 'dag', 'node', 'point')\n",
      "\n",
      "\n",
      "Cluster 1:\n",
      "('regression', 'method', 'model', 'loss', 'rate', 'kernel', 'problem', 'distributed', 'bound', 'function')\n",
      "\n",
      "\n",
      "Cluster 2:\n",
      "('model', 'method', 'problem', 'matrix', 'function', 'based', 'approach', 'set', 'bound', 'time')\n",
      "\n",
      "\n",
      "Cluster 3:\n",
      "('method', 'stochastic', 'convex', 'gradient', 'problem', 'optimization', 'convergence', 'function', 'non', 'dual')\n",
      "\n",
      "\n",
      "Cluster 4:\n",
      "('clustering', 'cluster', 'graph', 'based', 'spectral', 'model', 'matrix', 'number', 'method', 'set')\n",
      "\n",
      "\n",
      "Cluster 5:\n",
      "('network', 'model', 'neural', 'gesture', 'layer', 'image', 'recognition', 'representation', 'machine', 'training')\n",
      "\n",
      "\n",
      "Cluster 6:\n",
      "('label', 'class', 'classifier', 'classification', 'multi', 'active', 'forest', 'set', 'problem', 'supervised')\n",
      "\n",
      "\n",
      "Cluster 7:\n",
      "('causal', 'effect', 'variable', 'method', 'model', 'discovery', 'approach', 'inference', 'cause', 'instrumental')\n",
      "\n",
      "\n",
      "Cluster 8:\n",
      "('variational', 'gaussian', 'model', 'inference', 'process', 'approximation', 'bayesian', 'gp', 'approach', 'method')\n",
      "\n",
      "\n",
      "Cluster 9:\n",
      "('kernel', 'mean', 'approximation', 'method', 'estimator', 'performance', 'class', 'distribution', 'probability', 'model')\n",
      "\n",
      "\n",
      "Cluster 10:\n",
      "('policy', 'iteration', 'method', 'gradient', 'search', 'problem', 'td', 'action', 'function', 'based')\n",
      "\n",
      "\n",
      "Cluster 11:\n",
      "('manifold', 'machine', 'python', 'library', 'package', 'model', 'ensemble', 'optimization', 'toolbox', 'source')\n",
      "\n",
      "\n",
      "Cluster 12:\n",
      "('density', 'estimation', 'estimator', 'cluster', 'kernel', 'mean', 'gradient', 'line', 'shift', 'tree')\n",
      "\n",
      "\n",
      "Cluster 13:\n",
      "('matrix', 'rank', 'completion', 'low', 'bound', 'norm', 'problem', 'optimization', 'perturbation', 'value')\n",
      "\n",
      "\n",
      "Cluster 14:\n",
      "('tensor', 'rank', 'model', 'problem', 'analysis', 'clustering', 'decomposition', 'latent', 'variable', 'estimation')\n",
      "\n",
      "\n"
     ]
    }
   ],
   "source": [
    "clusters = print_and_get_clusters(tdidf_agg_clustering_stopwords, corpus_stopwords)"
   ]
  },
  {
   "cell_type": "markdown",
   "id": "statewide-prompt",
   "metadata": {},
   "source": [
    "# Metrics"
   ]
  },
  {
   "cell_type": "code",
   "execution_count": 28,
   "id": "broadband-remark",
   "metadata": {},
   "outputs": [
    {
     "name": "stdout",
     "output_type": "stream",
     "text": [
      "                      model type  silhouette_score  calinski_harabasz_score  \\\n",
      "0                   normal model          0.000467                 4.084053   \n",
      "1    model with custom stopwords          0.001413                 4.079098   \n",
      "2        model with connectivity          0.001950                 4.072045   \n",
      "3  model with spectral embedding          0.300012              1040.555513   \n",
      "\n",
      "   davies_bouldin_score  \n",
      "0              6.231226  \n",
      "1              6.615769  \n",
      "2              6.388895  \n",
      "3              0.889317  \n"
     ]
    }
   ],
   "source": [
    "def calc_scores_arr(corpus, model):\n",
    "    return metrics.silhouette_score(corpus, model.labels_, metric='euclidean'), metrics.calinski_harabasz_score(corpus, model.labels_), metrics.davies_bouldin_score(corpus, model.labels_)\n",
    "\n",
    "def calc_scores(corpus, model):\n",
    "    return calc_scores_arr(corpus.toarray(), model)\n",
    "    \n",
    "scores = []\n",
    "\n",
    "score = list(calc_scores(tfidf_corpus, tdidf_agg_clustering))\n",
    "score.insert(0, 'normal model')\n",
    "scores.append(score)\n",
    "\n",
    "score = list(calc_scores(tfidf_corpus_stopwords, tdidf_agg_clustering_stopwords))\n",
    "score.insert(0, 'model with custom stopwords')\n",
    "scores.append(score)\n",
    "\n",
    "score = list(calc_scores(tfidf_corpus, tdidf_agg_clustering_conn))\n",
    "score.insert(0, 'model with connectivity')\n",
    "scores.append(score)\n",
    "\n",
    "score = list(calc_scores_arr(tfidf_corpus_spec_embedding_array, tdidf_agg_clustering_spectral))\n",
    "score.insert(0, 'model with spectral embedding')\n",
    "scores.append(score)\n",
    "\n",
    "\n",
    "scores = pd.DataFrame(scores, columns=[\"model type\",\"silhouette_score\", \"calinski_harabasz_score\", \"davies_bouldin_score\"])\n",
    "print(scores)"
   ]
  },
  {
   "cell_type": "code",
   "execution_count": null,
   "id": "according-silly",
   "metadata": {},
   "outputs": [],
   "source": []
  }
 ],
 "metadata": {
  "kernelspec": {
   "display_name": "Python 3",
   "language": "python",
   "name": "python3"
  },
  "language_info": {
   "codemirror_mode": {
    "name": "ipython",
    "version": 3
   },
   "file_extension": ".py",
   "mimetype": "text/x-python",
   "name": "python",
   "nbconvert_exporter": "python",
   "pygments_lexer": "ipython3",
   "version": "3.7.7"
  }
 },
 "nbformat": 4,
 "nbformat_minor": 5
}
